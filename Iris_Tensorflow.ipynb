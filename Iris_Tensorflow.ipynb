{
 "cells": [
  {
   "cell_type": "markdown",
   "metadata": {},
   "source": [
    "# Problem Sheet: Tenserflow\n",
    "\n",
    "## Gerard Naughton G00209309\n",
    "\n",
    "### Objective: \n",
    "These problems relate to the Python package Tensorflow. We will again use the famous iris data set. Save your work as a single Jupyter notebook file in a GitHub repository. Include any required data files, a README, and a gitignore file in the repository."
   ]
  },
  {
   "cell_type": "markdown",
   "metadata": {},
   "source": [
    "## 1. Import neccessary imports to process iris date "
   ]
  },
  {
   "cell_type": "code",
   "execution_count": 1,
   "metadata": {},
   "outputs": [
    {
     "name": "stderr",
     "output_type": "stream",
     "text": [
      "Using TensorFlow backend.\n"
     ]
    }
   ],
   "source": [
    "import numpy as np\n",
    "import pandas as pd\n",
    "import keras as kr\n",
    "import csv "
   ]
  },
  {
   "cell_type": "markdown",
   "metadata": {},
   "source": [
    "## 2. Using Panda import iris data from csv file"
   ]
  },
  {
   "cell_type": "code",
   "execution_count": 2,
   "metadata": {},
   "outputs": [],
   "source": [
    "#iris = pd.read_csv(\"data/iris.data.csv\")\n",
    "iris = list(csv.reader(open('data/iris.csv')))[1:]"
   ]
  },
  {
   "cell_type": "markdown",
   "metadata": {},
   "source": [
    "## 3. Create a list of values representing sepal length and width and petal length and width of various iris species. These will be our input values"
   ]
  },
  {
   "cell_type": "code",
   "execution_count": 3,
   "metadata": {},
   "outputs": [],
   "source": [
    "# Goes through all the list and takes 4 values(0 to 3) in each array and sets them as np.float\n",
    "inputs= np.array(iris)[:,:4].astype(np.float)#iris.values[:,:4].astype(np.float)"
   ]
  },
  {
   "cell_type": "markdown",
   "metadata": {},
   "source": [
    "## 4. Create a list of values representing the species of iris flower. These will be our output values ie. setosa versicolor and virginica"
   ]
  },
  {
   "cell_type": "code",
   "execution_count": 4,
   "metadata": {},
   "outputs": [],
   "source": [
    "# Goes through all the list and takes last values(strings) in each array\n",
    "outputs=np.array(iris)[:,4]"
   ]
  },
  {
   "cell_type": "markdown",
   "metadata": {},
   "source": [
    "## 5. Convert output strings to ints"
   ]
  },
  {
   "cell_type": "code",
   "execution_count": 5,
   "metadata": {},
   "outputs": [],
   "source": [
    "# Convert the output strings to ints.\n",
    "outputs_vals, outputs_ints = np.unique(outputs, return_inverse=True)"
   ]
  },
  {
   "cell_type": "markdown",
   "metadata": {},
   "source": [
    "## 6. Using keras utils we encode our catagory integers as binary catagorial variables."
   ]
  },
  {
   "cell_type": "code",
   "execution_count": 6,
   "metadata": {},
   "outputs": [],
   "source": [
    "# Encode the category integers as binary categorical vairables.\n",
    "outputs_cats = kr.utils.to_categorical(outputs_ints)"
   ]
  },
  {
   "cell_type": "markdown",
   "metadata": {},
   "source": [
    "## 7. Split up the iris data randomly into training set data and test set data"
   ]
  },
  {
   "cell_type": "code",
   "execution_count": 7,
   "metadata": {},
   "outputs": [],
   "source": [
    "# Split the input and output data sets into training and test subsets.\n",
    "# create a random list if integers between 0 and 149\n",
    "inds = np.random.permutation(len(inputs))\n",
    "# Split the array into seperate arrays train_inds and test_inds\n",
    "train_inds, test_inds = np.array_split(inds, 2)\n",
    "# Using these inds create a training set of data and test set of data\n",
    "inputs_train, outputs_train = inputs[train_inds], outputs_cats[train_inds]\n",
    "inputs_test,  outputs_test  = inputs[test_inds],  outputs_cats[test_inds]"
   ]
  },
  {
   "cell_type": "markdown",
   "metadata": {},
   "source": [
    "## 8. Create a neural network"
   ]
  },
  {
   "cell_type": "code",
   "execution_count": 8,
   "metadata": {},
   "outputs": [],
   "source": [
    "# Create a neural network.\n",
    "model = kr.models.Sequential()"
   ]
  },
  {
   "cell_type": "code",
   "execution_count": null,
   "metadata": {},
   "outputs": [],
   "source": []
  },
  {
   "cell_type": "code",
   "execution_count": 9,
   "metadata": {},
   "outputs": [],
   "source": [
    "# Add an initial layer with 4 input nodes, and a hidden layer with 16 nodes.\n",
    "model.add(kr.layers.Dense(16, input_shape=(4,)))"
   ]
  },
  {
   "cell_type": "code",
   "execution_count": null,
   "metadata": {},
   "outputs": [],
   "source": []
  },
  {
   "cell_type": "code",
   "execution_count": 10,
   "metadata": {},
   "outputs": [],
   "source": [
    "# Apply the sigmoid activation function to that layer.\n",
    "model.add(kr.layers.Activation(\"sigmoid\"))"
   ]
  },
  {
   "cell_type": "code",
   "execution_count": null,
   "metadata": {},
   "outputs": [],
   "source": []
  },
  {
   "cell_type": "code",
   "execution_count": 11,
   "metadata": {},
   "outputs": [],
   "source": [
    "# Add another layer, connected to the layer with 16 nodes, containing three output nodes.\n",
    "model.add(kr.layers.Dense(3))"
   ]
  },
  {
   "cell_type": "code",
   "execution_count": null,
   "metadata": {},
   "outputs": [],
   "source": []
  },
  {
   "cell_type": "code",
   "execution_count": 12,
   "metadata": {},
   "outputs": [],
   "source": [
    "# Use the softmax activation function there.\n",
    "model.add(kr.layers.Activation(\"softmax\"))"
   ]
  },
  {
   "cell_type": "code",
   "execution_count": null,
   "metadata": {},
   "outputs": [],
   "source": []
  },
  {
   "cell_type": "code",
   "execution_count": 13,
   "metadata": {},
   "outputs": [],
   "source": [
    "# Configure the model for training.\n",
    "# Uses the adam optimizer and categorical cross entropy as the loss function.\n",
    "# Add in some extra metrics - accuracy being the only one.\n",
    "model.compile(optimizer=\"adam\", loss=\"categorical_crossentropy\", metrics=[\"accuracy\"])"
   ]
  },
  {
   "cell_type": "code",
   "execution_count": null,
   "metadata": {},
   "outputs": [],
   "source": []
  },
  {
   "cell_type": "code",
   "execution_count": 14,
   "metadata": {},
   "outputs": [
    {
     "name": "stdout",
     "output_type": "stream",
     "text": [
      "Epoch 1/100\n",
      "75/75 [==============================] - 0s - loss: 1.1926 - acc: 0.4267     \n",
      "Epoch 2/100\n",
      "75/75 [==============================] - 0s - loss: 1.1186 - acc: 0.3733       \n",
      "Epoch 3/100\n",
      "75/75 [==============================] - 0s - loss: 1.0560 - acc: 0.4133       \n",
      "Epoch 4/100\n",
      "75/75 [==============================] - 0s - loss: 1.0019 - acc: 0.5333     \n",
      "Epoch 5/100\n",
      "75/75 [==============================] - 0s - loss: 0.9414 - acc: 0.7067       \n",
      "Epoch 6/100\n",
      "75/75 [==============================] - 0s - loss: 0.8873 - acc: 0.7200     \n",
      "Epoch 7/100\n",
      "75/75 [==============================] - 0s - loss: 0.8353 - acc: 0.7200       \n",
      "Epoch 8/100\n",
      "75/75 [==============================] - 0s - loss: 0.7911 - acc: 0.7200     \n",
      "Epoch 9/100\n",
      "75/75 [==============================] - 0s - loss: 0.7564 - acc: 0.7467     \n",
      "Epoch 10/100\n",
      "75/75 [==============================] - 0s - loss: 0.7158 - acc: 0.6933     \n",
      "Epoch 11/100\n",
      "75/75 [==============================] - 0s - loss: 0.6845 - acc: 0.7333     \n",
      "Epoch 12/100\n",
      "75/75 [==============================] - 0s - loss: 0.6576 - acc: 0.7733     \n",
      "Epoch 13/100\n",
      "75/75 [==============================] - 0s - loss: 0.6314 - acc: 0.7867       \n",
      "Epoch 14/100\n",
      "75/75 [==============================] - 0s - loss: 0.6098 - acc: 0.7733     \n",
      "Epoch 15/100\n",
      "75/75 [==============================] - 0s - loss: 0.5885 - acc: 0.8267     \n",
      "Epoch 16/100\n",
      "75/75 [==============================] - 0s - loss: 0.5720 - acc: 0.8000     \n",
      "Epoch 17/100\n",
      "75/75 [==============================] - 0s - loss: 0.5531 - acc: 0.7867       \n",
      "Epoch 18/100\n",
      "75/75 [==============================] - 0s - loss: 0.5369 - acc: 0.8800     \n",
      "Epoch 19/100\n",
      "75/75 [==============================] - 0s - loss: 0.5210 - acc: 0.9067     \n",
      "Epoch 20/100\n",
      "75/75 [==============================] - 0s - loss: 0.5074 - acc: 0.8133     \n",
      "Epoch 21/100\n",
      "75/75 [==============================] - 0s - loss: 0.4975 - acc: 0.8267     \n",
      "Epoch 22/100\n",
      "75/75 [==============================] - 0s - loss: 0.4825 - acc: 0.9467     \n",
      "Epoch 23/100\n",
      "75/75 [==============================] - 0s - loss: 0.4740 - acc: 0.9333     \n",
      "Epoch 24/100\n",
      "75/75 [==============================] - 0s - loss: 0.4636 - acc: 0.8400     \n",
      "Epoch 25/100\n",
      "75/75 [==============================] - 0s - loss: 0.4536 - acc: 0.8800     \n",
      "Epoch 26/100\n",
      "75/75 [==============================] - 0s - loss: 0.4415 - acc: 0.9200     \n",
      "Epoch 27/100\n",
      "75/75 [==============================] - 0s - loss: 0.4337 - acc: 0.9200     \n",
      "Epoch 28/100\n",
      "75/75 [==============================] - 0s - loss: 0.4258 - acc: 0.9333     \n",
      "Epoch 29/100\n",
      "75/75 [==============================] - 0s - loss: 0.4177 - acc: 0.9733     \n",
      "Epoch 30/100\n",
      "75/75 [==============================] - 0s - loss: 0.4093 - acc: 0.9600        \n",
      "Epoch 31/100\n",
      "75/75 [==============================] - 0s - loss: 0.3997 - acc: 0.9200     \n",
      "Epoch 32/100\n",
      "75/75 [==============================] - 0s - loss: 0.3975 - acc: 0.9333     \n",
      "Epoch 33/100\n",
      "75/75 [==============================] - 0s - loss: 0.3880 - acc: 0.9467     \n",
      "Epoch 34/100\n",
      "75/75 [==============================] - 0s - loss: 0.3819 - acc: 0.9733     \n",
      "Epoch 35/100\n",
      "75/75 [==============================] - 0s - loss: 0.3746 - acc: 0.9600     \n",
      "Epoch 36/100\n",
      "75/75 [==============================] - 0s - loss: 0.3674 - acc: 0.9733     \n",
      "Epoch 37/100\n",
      "75/75 [==============================] - 0s - loss: 0.3594 - acc: 0.9467     \n",
      "Epoch 38/100\n",
      "75/75 [==============================] - 0s - loss: 0.3527 - acc: 0.9733     \n",
      "Epoch 39/100\n",
      "75/75 [==============================] - 0s - loss: 0.3463 - acc: 0.9600     \n",
      "Epoch 40/100\n",
      "75/75 [==============================] - 0s - loss: 0.3458 - acc: 0.9733     \n",
      "Epoch 41/100\n",
      "75/75 [==============================] - 0s - loss: 0.3341 - acc: 0.9733       \n",
      "Epoch 42/100\n",
      "75/75 [==============================] - 0s - loss: 0.3283 - acc: 0.9600     \n",
      "Epoch 43/100\n",
      "75/75 [==============================] - 0s - loss: 0.3223 - acc: 0.9733     \n",
      "Epoch 44/100\n",
      "75/75 [==============================] - 0s - loss: 0.3178 - acc: 0.9733     \n",
      "Epoch 45/100\n",
      "75/75 [==============================] - 0s - loss: 0.3117 - acc: 0.9733     \n",
      "Epoch 46/100\n",
      "75/75 [==============================] - 0s - loss: 0.3058 - acc: 0.9600     \n",
      "Epoch 47/100\n",
      "75/75 [==============================] - 0s - loss: 0.3033 - acc: 0.9733     \n",
      "Epoch 48/100\n",
      "75/75 [==============================] - 0s - loss: 0.2956 - acc: 0.9733     \n",
      "Epoch 49/100\n",
      "75/75 [==============================] - 0s - loss: 0.2895 - acc: 0.9733     \n",
      "Epoch 50/100\n",
      "75/75 [==============================] - 0s - loss: 0.2885 - acc: 1.0000     \n",
      "Epoch 51/100\n",
      "75/75 [==============================] - 0s - loss: 0.2805 - acc: 0.9600     \n",
      "Epoch 52/100\n",
      "75/75 [==============================] - 0s - loss: 0.2747 - acc: 0.9867     \n",
      "Epoch 53/100\n",
      "75/75 [==============================] - 0s - loss: 0.2701 - acc: 0.9733     \n",
      "Epoch 54/100\n",
      "75/75 [==============================] - 0s - loss: 0.2667 - acc: 0.9600     \n",
      "Epoch 55/100\n",
      "75/75 [==============================] - 0s - loss: 0.2627 - acc: 1.0000     \n",
      "Epoch 56/100\n",
      "75/75 [==============================] - 0s - loss: 0.2576 - acc: 0.9733     \n",
      "Epoch 57/100\n",
      "75/75 [==============================] - 0s - loss: 0.2557 - acc: 0.9867     \n",
      "Epoch 58/100\n",
      "75/75 [==============================] - 0s - loss: 0.2421 - acc: 0.9867     \n",
      "Epoch 59/100\n",
      "75/75 [==============================] - 0s - loss: 0.2472 - acc: 0.9600     \n",
      "Epoch 60/100\n",
      "75/75 [==============================] - 0s - loss: 0.2368 - acc: 0.9867     \n",
      "Epoch 61/100\n",
      "75/75 [==============================] - 0s - loss: 0.2339 - acc: 0.9867     \n",
      "Epoch 62/100\n",
      "75/75 [==============================] - 0s - loss: 0.2317 - acc: 1.0000     \n",
      "Epoch 63/100\n",
      "75/75 [==============================] - 0s - loss: 0.2230 - acc: 0.9867     \n",
      "Epoch 64/100\n",
      "75/75 [==============================] - 0s - loss: 0.2186 - acc: 0.9733     \n",
      "Epoch 65/100\n",
      "75/75 [==============================] - 0s - loss: 0.2148 - acc: 0.9867     \n",
      "Epoch 66/100\n",
      "75/75 [==============================] - 0s - loss: 0.2111 - acc: 0.9867     \n",
      "Epoch 67/100\n",
      "75/75 [==============================] - 0s - loss: 0.2065 - acc: 0.9733     \n",
      "Epoch 68/100\n",
      "75/75 [==============================] - 0s - loss: 0.2059 - acc: 0.9733     \n",
      "Epoch 69/100\n",
      "75/75 [==============================] - 0s - loss: 0.1992 - acc: 0.9733     \n",
      "Epoch 70/100\n",
      "75/75 [==============================] - 0s - loss: 0.1968 - acc: 1.0000     \n",
      "Epoch 71/100\n",
      "75/75 [==============================] - 0s - loss: 0.1888 - acc: 1.0000     \n",
      "Epoch 72/100\n",
      "75/75 [==============================] - 0s - loss: 0.1883 - acc: 0.9733     \n",
      "Epoch 73/100\n",
      "75/75 [==============================] - 0s - loss: 0.1820 - acc: 1.0000     \n",
      "Epoch 74/100\n",
      "75/75 [==============================] - 0s - loss: 0.1792 - acc: 0.9733     \n",
      "Epoch 75/100\n",
      "75/75 [==============================] - 0s - loss: 0.1787 - acc: 0.9867     \n",
      "Epoch 76/100\n",
      "75/75 [==============================] - 0s - loss: 0.1743 - acc: 0.9867     \n",
      "Epoch 77/100\n",
      "75/75 [==============================] - 0s - loss: 0.1692 - acc: 0.9733     \n",
      "Epoch 78/100\n",
      "75/75 [==============================] - 0s - loss: 0.1669 - acc: 0.9867     \n",
      "Epoch 79/100\n",
      "75/75 [==============================] - 0s - loss: 0.1645 - acc: 0.9867     \n",
      "Epoch 80/100\n",
      "75/75 [==============================] - 0s - loss: 0.1621 - acc: 0.9867     \n",
      "Epoch 81/100\n",
      "75/75 [==============================] - 0s - loss: 0.1585 - acc: 0.9867     \n",
      "Epoch 82/100\n",
      "75/75 [==============================] - 0s - loss: 0.1575 - acc: 0.9867     \n",
      "Epoch 83/100\n",
      "75/75 [==============================] - 0s - loss: 0.1545 - acc: 0.9867     \n",
      "Epoch 84/100\n",
      "75/75 [==============================] - 0s - loss: 0.1498 - acc: 0.9867     \n",
      "Epoch 85/100\n",
      "75/75 [==============================] - 0s - loss: 0.1477 - acc: 0.9733     \n",
      "Epoch 86/100\n",
      "75/75 [==============================] - 0s - loss: 0.1457 - acc: 0.9867     \n",
      "Epoch 87/100\n",
      "75/75 [==============================] - 0s - loss: 0.1420 - acc: 0.9867     \n",
      "Epoch 88/100\n",
      "75/75 [==============================] - 0s - loss: 0.1405 - acc: 1.0000     \n",
      "Epoch 89/100\n",
      "75/75 [==============================] - 0s - loss: 0.1384 - acc: 0.9867     \n",
      "Epoch 90/100\n"
     ]
    },
    {
     "name": "stdout",
     "output_type": "stream",
     "text": [
      "75/75 [==============================] - 0s - loss: 0.1402 - acc: 0.9733     \n",
      "Epoch 91/100\n",
      "75/75 [==============================] - 0s - loss: 0.1347 - acc: 0.9867     \n",
      "Epoch 92/100\n",
      "75/75 [==============================] - 0s - loss: 0.1355 - acc: 1.0000     \n",
      "Epoch 93/100\n",
      "75/75 [==============================] - 0s - loss: 0.1292 - acc: 0.9600     \n",
      "Epoch 94/100\n",
      "75/75 [==============================] - 0s - loss: 0.1338 - acc: 1.0000     \n",
      "Epoch 95/100\n",
      "75/75 [==============================] - 0s - loss: 0.1269 - acc: 0.9867     \n",
      "Epoch 96/100\n",
      "75/75 [==============================] - 0s - loss: 0.1248 - acc: 0.9867     \n",
      "Epoch 97/100\n",
      "75/75 [==============================] - 0s - loss: 0.1215 - acc: 0.9867     \n",
      "Epoch 98/100\n",
      "75/75 [==============================] - 0s - loss: 0.1191 - acc: 0.9867     \n",
      "Epoch 99/100\n",
      "75/75 [==============================] - 0s - loss: 0.1208 - acc: 0.9867     \n",
      "Epoch 100/100\n",
      "75/75 [==============================] - 0s - loss: 0.1186 - acc: 0.9867     \n"
     ]
    },
    {
     "data": {
      "text/plain": [
       "<keras.callbacks.History at 0x1c637d9af60>"
      ]
     },
     "execution_count": 14,
     "metadata": {},
     "output_type": "execute_result"
    }
   ],
   "source": [
    "# Fit the model using our training data.\n",
    "model.fit(inputs_train, outputs_train, epochs=100, batch_size=1, verbose=1)"
   ]
  },
  {
   "cell_type": "code",
   "execution_count": null,
   "metadata": {},
   "outputs": [],
   "source": []
  },
  {
   "cell_type": "code",
   "execution_count": 15,
   "metadata": {},
   "outputs": [
    {
     "name": "stdout",
     "output_type": "stream",
     "text": [
      "\r",
      "32/75 [===========>..................] - ETA: 0s"
     ]
    }
   ],
   "source": [
    "# Evaluate the model using the test data set.\n",
    "loss, accuracy = model.evaluate(inputs_test, outputs_test, verbose=1)"
   ]
  },
  {
   "cell_type": "code",
   "execution_count": null,
   "metadata": {},
   "outputs": [],
   "source": []
  },
  {
   "cell_type": "code",
   "execution_count": 16,
   "metadata": {},
   "outputs": [
    {
     "name": "stdout",
     "output_type": "stream",
     "text": [
      "\n",
      "\n",
      "Loss: 0.1182\tAccuracy: 0.9600\n"
     ]
    }
   ],
   "source": [
    "# Output the accuracy of the model.\n",
    "print(\"\\n\\nLoss: %6.4f\\tAccuracy: %6.4f\" % (loss, accuracy))"
   ]
  },
  {
   "cell_type": "code",
   "execution_count": null,
   "metadata": {},
   "outputs": [],
   "source": []
  },
  {
   "cell_type": "code",
   "execution_count": 17,
   "metadata": {},
   "outputs": [
    {
     "name": "stdout",
     "output_type": "stream",
     "text": [
      "Actual: [0 1 0]\tEstimated: [0 1 0]\n",
      "That means it's a versicolor\n"
     ]
    }
   ],
   "source": [
    "# Predict the class of a single flower.\n",
    "prediction = np.around(model.predict(np.expand_dims(inputs_test[0], axis=0))).astype(np.int)[0]\n",
    "print(\"Actual: %s\\tEstimated: %s\" % (outputs_test[0].astype(np.int), prediction))\n",
    "print(\"That means it's a %s\" % outputs_vals[prediction.astype(np.bool)][0])"
   ]
  },
  {
   "cell_type": "code",
   "execution_count": null,
   "metadata": {},
   "outputs": [],
   "source": []
  },
  {
   "cell_type": "code",
   "execution_count": 18,
   "metadata": {},
   "outputs": [],
   "source": [
    "# Save the model to a file for later use.\n",
    "model.save(\"iris_nn.h5\")\n",
    "# Load the model again with: model = load_model(\"iris_nn.h5\")"
   ]
  }
 ],
 "metadata": {
  "kernelspec": {
   "display_name": "Python 3",
   "language": "python",
   "name": "python3"
  },
  "language_info": {
   "codemirror_mode": {
    "name": "ipython",
    "version": 3
   },
   "file_extension": ".py",
   "mimetype": "text/x-python",
   "name": "python",
   "nbconvert_exporter": "python",
   "pygments_lexer": "ipython3",
   "version": "3.5.4"
  }
 },
 "nbformat": 4,
 "nbformat_minor": 2
}
